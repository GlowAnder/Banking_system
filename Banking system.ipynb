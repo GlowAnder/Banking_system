{
 "cells": [
  {
   "cell_type": "code",
   "execution_count": 35,
   "id": "7b331576-41cb-4e57-9970-148ed4cd6385",
   "metadata": {},
   "outputs": [],
   "source": [
    "def creating_account():\n",
    "    name=input('enter your full name: ')\n",
    "    national_id_number=input('enter your id number')\n",
    "    source_of_money=input('what is your source of money')\n",
    "    property_you_own=input('enter any property you own')\n",
    "    location=input('where do you live')\n",
    "    amount=input('enter amount of money you earn per month')\n",
    "    type_of_card=input('enter type of ATM card classing you want')\n",
    "    signature=input('sign here')\n",
    "    security_questions=input('1.what is your favorite colour?'\n",
    "                            '2.what is your favorite food?')\n",
    "    print(f' you have successfully opened an account and your account number is 76465930 and your pin is 9475 ,warning:PLEASE DO NOT SHARE THE PIN WITH ANYONE!' )"
   ]
  },
  {
   "cell_type": "code",
   "execution_count": 36,
   "id": "f1c0f925-a6f8-4a8a-a03c-fb732836697e",
   "metadata": {},
   "outputs": [],
   "source": [
    "def money_transferring():\n",
    "    print('1.to own account'\n",
    "         '2.to national bank account'\n",
    "         '3.to other banks'\n",
    "         '4.to mobile wallet')\n",
    "    choice=int(input('choose'))\n",
    "    if choice==1:\n",
    "        account_source=input('Enter the source account:')\n",
    "        account=input('enter account to which you are sending')\n",
    "        amount=float(input('enter the amount'))\n",
    "        print(f'you have successfully tranfered{amount} to {account}')\n",
    "    elif choice==2:\n",
    "        while True:\n",
    "            print('1.other national bank account'\n",
    "                 '2.to NBM once off')\n",
    "            choice=int(input('choose'))\n",
    "            if choice==1:\n",
    "                rec_account=int(input('enter account number'))\n",
    "                rec_name=input('enter the name')\n",
    "                rec_phone=input('enter the phone number')\n",
    "                amount=float(input('amount:'))\n",
    "                print('money has successfully been transfered')\n",
    "            elif choice==2:\n",
    "                source_name=input('Enter the source e.g salary')\n",
    "                amount=float(input('enter amount'))\n",
    "                accont=input('enter the account no')\n",
    "                print('money has been transfered successfully')\n",
    "            else:\n",
    "                print('invalid option')\n",
    "    elif choice==3:\n",
    "        print('1.to other bank account'\n",
    "              '2.to other bank once off'\n",
    "              '3.exit program')\n",
    "        option=int(input('choose'))\n",
    "        if option==1:\n",
    "            recepient=input('account receipient')\n",
    "            amount=float(input('enter amount'))\n",
    "            print(f'money of amount{amount} has been transfered to {recepient} successfully')\n",
    "        elif option==2:\n",
    "            bank=input('bank name')\n",
    "            your_account=input('your account number')\n",
    "            recepient_no=input('recepient account')\n",
    "            name=input('enter your name')\n",
    "            phone=input('enter your phone number')\n",
    "            amount=float(input('enter amount'))\n",
    "            print('money has been transfered successfully')\n",
    "    elif choice==4:\n",
    "        while True:\n",
    "            print('1.mo 626 wallet'\n",
    "                  '2.airtel money'\n",
    "                  '3.tnm mpamba')\n",
    "            option=int(input('choose option'))\n",
    "            if option==1:\n",
    "                source=input(\"enter sender's account\")\n",
    "                amount=float(input('enter amount'))\n",
    "                phone=input('enter your phone number')\n",
    "                print('money has been transfered successfully')\n",
    "            elif option==2:\n",
    "                source=input(\"enter sender's account\")\n",
    "                amount=float(input('enter amount'))\n",
    "                phone=input('enter your phone number')\n",
    "                print('money has been transfered successfully')\n",
    "            elif option==3:\n",
    "                print('exiting.....')\n",
    "                break\n",
    "            else:\n",
    "                print('invalid option')"
   ]
  },
  {
   "cell_type": "code",
   "execution_count": 37,
   "id": "0d55e23a-abc1-41b7-84b6-7c5779986980",
   "metadata": {},
   "outputs": [],
   "source": [
    "def my_account():\n",
    "    while True:\n",
    "        print('1.balance enquiry'\n",
    "              '2.mini statement'\n",
    "              '3.iterium statement'\n",
    "              '0.exit program')\n",
    "        choice=int(input('choose'))\n",
    "        if choice==1:\n",
    "            print(f'balance: {balance}')\n",
    "        elif choice==2:\n",
    "            print(f'the mistatement is MWK{deposit} as a deposit and {balance} as balance')\n",
    "        elif choice==3:\n",
    "            print(f'the interium statement is going to be used to your g-mail')\n",
    "        elif choice==0:\n",
    "            print('exiting program.....')\n",
    "            break\n",
    "        else:\n",
    "            print('invalid input' )\n",
    "            "
   ]
  },
  {
   "cell_type": "code",
   "execution_count": 38,
   "id": "aaa605b4-2b2a-4322-89af-96dff66d0eb2",
   "metadata": {},
   "outputs": [],
   "source": [
    "balance={'balance':0.00}"
   ]
  },
  {
   "cell_type": "code",
   "execution_count": 39,
   "id": "f4e60851-cf53-4c4c-9001-fa2a735c881a",
   "metadata": {},
   "outputs": [],
   "source": [
    "def withdraw():\n",
    "    while True:\n",
    "        print ('1.cardless withdraw'\n",
    "               '2.agent direct cash withdrawal'\n",
    "               '0.exit')\n",
    "        choice=int(input('choose'))\n",
    "        if choice==1:\n",
    "            print('1.generate for self'\n",
    "                  '2.generate for other'\n",
    "                  '3.view tockens')\n",
    "            option=int(input('choose option'))\n",
    "            if option==1:\n",
    "                account=input('the account of sender')\n",
    "                card=input('indicate ATM or Agent')\n",
    "                amount=float(input('enter amount'))\n",
    "                print(f'you have withdrawn MWK{amount} from {account} successfully')\n",
    "            elif option==2:\n",
    "                source=input('indicate the source of fund')\n",
    "                card=input('indicate ATM or Agent')\n",
    "                amount=float(input('enter amount')) \n",
    "                print('process done')\n",
    "            elif option==3:\n",
    "                print('invalid input')\n",
    "        elif choice==2:\n",
    "            source=input('indicate the source of fund')\n",
    "            code=input('input agent code')\n",
    "            amount=float(input('enter amount'))\n",
    "            print(f'you have withdrawn MWK{amount} successfully')\n",
    "        elif choice==0:\n",
    "            print('exiting....')\n",
    "            break\n",
    "        else:\n",
    "             print('invalid input')"
   ]
  },
  {
   "cell_type": "code",
   "execution_count": 40,
   "id": "a4a7fbbf-4b1d-483a-a33e-a3363e54e066",
   "metadata": {},
   "outputs": [],
   "source": [
    "def deposit():\n",
    "    account=input('either saving or expenses')\n",
    "    amount=float(input('enter amount'))\n",
    "    if amount>0:\n",
    "        balance['balance']+=amount\n",
    "        print(f'you have added MWK{amount} and your new balance is {balance['balance']}')\n",
    "    elif amount<0:\n",
    "        print(f\"you can't add negative money\")\n",
    "    else:\n",
    "        print('invalid option')"
   ]
  },
  {
   "cell_type": "code",
   "execution_count": 41,
   "id": "906c932f-9560-4198-ae42-6aa279873bae",
   "metadata": {},
   "outputs": [],
   "source": [
    "def loan():\n",
    "    print('1.loan application'\n",
    "         '2.loan payment'\n",
    "         '3.loan calculation')\n",
    "    option=int(input('choose option'))\n",
    "    if option==1:\n",
    "        loan_type=input('enter loan type')\n",
    "        amount=float(input('enter amount'))\n",
    "        balance['balance']+=amount\n",
    "        print(f'you request to borrow MWK{amount} has been approved,the loan is to be refunded in 20 months time')\n",
    "    elif option==2:\n",
    "         amount=float(input('enter amount'))\n",
    "         print('you have successfully refunded your loan')\n",
    "         balance['balance']+=amount\n",
    "    elif option==3:   \n",
    "        amount=float(input('enter amount'))\n",
    "        months=int(input('enter period in months' ))\n",
    "        SI=amount*0.3*months\n",
    "        print(SI+ amount)\n",
    "    else:\n",
    "        print('invalid input')"
   ]
  },
  {
   "cell_type": "code",
   "execution_count": 42,
   "id": "55dbbc99-4413-4f3e-92c4-7ff07ad8501f",
   "metadata": {},
   "outputs": [],
   "source": [
    "def payment():\n",
    "    print('1.tax payments'\n",
    "         '2.DSTV'\n",
    "         '3.MASM payment'\n",
    "         '4.tertially education'\n",
    "         '5.exit program to main menu')\n",
    "    option=int(input('choose option'))\n",
    "    if option==1:\n",
    "        source_account=input('enter the source account')\n",
    "        PRN=input('enter the PRN')\n",
    "        amount=float(input('enter amount'))\n",
    "        balance['balance']+=amount\n",
    "        print('tax payment successful')\n",
    "    elif option==2:\n",
    "        recepient_num=input('enter the number of the recepient')\n",
    "        smart_card_num=input('enter your smart card number')\n",
    "        print('submitted successfully')\n",
    "    elif option==3:\n",
    "        MASM_SHEME_NUMBER=input('enter your scheme number')\n",
    "        print('successfully submitted')\n",
    "    elif option==4:\n",
    "        source_account=input('enter the source account')\n",
    "        institution=input('enter institution name')\n",
    "        student_id=input('enter your id number')\n",
    "        amount=float(input('enter amount'))\n",
    "        balance['balance']+=amount"
   ]
  },
  {
   "cell_type": "code",
   "execution_count": null,
   "id": "036680bd-2952-45dd-973b-f3f89b2e0373",
   "metadata": {},
   "outputs": [
    {
     "name": "stdout",
     "output_type": "stream",
     "text": [
      "1.creating account 2.money transferring3.my account 4.withdraw5.deposit6.loan7.payment\n"
     ]
    },
    {
     "name": "stdin",
     "output_type": "stream",
     "text": [
      "choose option 3\n"
     ]
    },
    {
     "name": "stdout",
     "output_type": "stream",
     "text": [
      "1.balance enquiry2.mini statement3.iterium statement0.exit program\n"
     ]
    },
    {
     "name": "stdin",
     "output_type": "stream",
     "text": [
      "choose 1\n"
     ]
    },
    {
     "name": "stdout",
     "output_type": "stream",
     "text": [
      "balance: {'balance': 0.0}\n",
      "1.balance enquiry2.mini statement3.iterium statement0.exit program\n"
     ]
    },
    {
     "name": "stdin",
     "output_type": "stream",
     "text": [
      "choose 3\n"
     ]
    },
    {
     "name": "stdout",
     "output_type": "stream",
     "text": [
      "the interium statement is going to be used to your g-mail\n",
      "1.balance enquiry2.mini statement3.iterium statement0.exit program\n"
     ]
    }
   ],
   "source": [
    "def banking_system():\n",
    "    print('1.creating account'\n",
    "         ' 2.money transferring'\n",
    "         '3.my account '\n",
    "          '4.withdraw'\n",
    "          '5.deposit'\n",
    "          '6.loan'\n",
    "          '7.payment')\n",
    "    option=int(input('choose option'))\n",
    "    if option==1:\n",
    "        creating_account()\n",
    "    elif option==2:\n",
    "        money_transferring()\n",
    "    elif option==3:\n",
    "        my_account()\n",
    "    elif option==4:\n",
    "        withdraw()\n",
    "    elif option==5:\n",
    "        deposit()\n",
    "    elif option==6:\n",
    "        loan()\n",
    "    elif option==7:\n",
    "        payment()\n",
    "banking_system()"
   ]
  },
  {
   "cell_type": "code",
   "execution_count": null,
   "id": "ab8a9530-2bf4-43ae-86ec-94e6731f66c4",
   "metadata": {},
   "outputs": [],
   "source": []
  }
 ],
 "metadata": {
  "kernelspec": {
   "display_name": "Python 3 (ipykernel)",
   "language": "python",
   "name": "python3"
  },
  "language_info": {
   "codemirror_mode": {
    "name": "ipython",
    "version": 3
   },
   "file_extension": ".py",
   "mimetype": "text/x-python",
   "name": "python",
   "nbconvert_exporter": "python",
   "pygments_lexer": "ipython3",
   "version": "3.13.2"
  }
 },
 "nbformat": 4,
 "nbformat_minor": 5
}
